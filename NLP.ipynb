{
 "cells": [
  {
   "cell_type": "code",
   "execution_count": 1,
   "metadata": {},
   "outputs": [
    {
     "name": "stdout",
     "output_type": "stream",
     "text": [
      "{'love nlp': 3, 'nlp and': 4, 'and will': 0, 'will learn': 6, 'learn nlp': 2, 'nlp in': 5, 'in 2month': 1}\n",
      "[[1 1 1 1 1 1 1]]\n"
     ]
    }
   ],
   "source": [
    "#importing the function\n",
    "from sklearn.feature_extraction.text import CountVectorizer\n",
    "# Text\n",
    "text = [\"I love NLP and I will learn NLP in 2month \"]\n",
    "# create the transform\n",
    "vectorizer = CountVectorizer(ngram_range=(2,2))\n",
    "# tokenizing\n",
    "vectorizer.fit(text)\n",
    "# encode document\n",
    "vector = vectorizer.transform(text)\n",
    "# summarize & generating output\n",
    "print(vectorizer.vocabulary_)\n",
    "print(vector.toarray())"
   ]
  },
  {
   "cell_type": "code",
   "execution_count": 8,
   "metadata": {},
   "outputs": [],
   "source": [
    "import numpy as np\n",
    "import nltk\n",
    "from nltk import bigrams\n",
    "import itertools\n",
    "import pandas as pd"
   ]
  },
  {
   "cell_type": "code",
   "execution_count": 12,
   "metadata": {},
   "outputs": [
    {
     "name": "stdout",
     "output_type": "stream",
     "text": [
      "     0    1    2    3    4    5    6\n",
      "0  0.0  1.0  0.0  0.0  0.0  0.0  0.0\n",
      "1  0.0  0.0  1.0  1.0  0.0  0.0  1.0\n",
      "2  0.0  0.0  0.0  0.0  1.0  0.0  0.0\n",
      "3  0.0  0.0  0.0  0.0  0.0  0.0  1.0\n",
      "4  0.0  2.0  0.0  0.0  0.0  0.0  0.0\n",
      "5  0.0  0.0  0.0  0.0  1.0  0.0  0.0\n",
      "6  2.0  0.0  0.0  0.0  0.0  0.0  0.0\n"
     ]
    }
   ],
   "source": [
    "def co_occurrence_matrix(corpus):\n",
    "     vocab = set(corpus)\n",
    "     vocab = list(vocab)\n",
    "     vocab_to_index = { word:i for i, word in enumerate(vocab) }\n",
    " # Create bigrams from all words in corpus\n",
    "     bi_grams = list(bigrams(corpus))\n",
    " # Frequency distribution of bigrams ((word1, word2),num_occurrences)\n",
    "     bigram_freq = nltk.FreqDist(bi_grams).most_common(len(bi_grams))\n",
    " # Initialise co-occurrence matrix\n",
    " # co_occurrence_matrix[current][previous]\n",
    "     co_occurrence_matrix = np.zeros((len(vocab), len(vocab)))\n",
    " # Loop through the bigrams taking the current and previous word,\n",
    " # and the number of occurrences of the bigram.\n",
    "     for bigram in bigram_freq:\n",
    "         current = bigram[0][1]\n",
    "         previous = bigram[0][0]\n",
    "         count = bigram[1]\n",
    "         pos_current = vocab_to_index[current]\n",
    "         pos_previous = vocab_to_index[previous]\n",
    "         co_occurrence_matrix[pos_current][pos_previous] = count\n",
    "     co_occurrence_matrix = np.matrix(co_occurrence_matrix)\n",
    " # return the matrix and the index\n",
    "     return co_occurrence_matrix,vocab_to_index\n",
    "\n",
    "sentences = [['I', 'love', 'nlp'],\n",
    " ['I', 'love','to' 'learn'],\n",
    " ['nlp', 'is', 'future'],\n",
    " ['nlp', 'is', 'cool']]\n",
    "# create one list using many lists\n",
    "merged = list(itertools.chain.from_iterable(sentences))\n",
    "matrix = co_occurrence_matrix(merged)\n",
    "# generate the matrix\n",
    "CoMatrixFinal = pd.DataFrame(matrix[0], index=vocab_to_index, columns=vocab_to_index)\n",
    "print(CoMatrixFinal)"
   ]
  },
  {
   "cell_type": "code",
   "execution_count": 13,
   "metadata": {},
   "outputs": [],
   "source": [
    "from sklearn.feature_extraction.text import HashingVectorizer\n",
    "# list of text documents\n",
    "text = [\"The quick brown fox jumped over the lazy dog.\"]"
   ]
  },
  {
   "cell_type": "code",
   "execution_count": 14,
   "metadata": {},
   "outputs": [
    {
     "name": "stdout",
     "output_type": "stream",
     "text": [
      "(1, 10)\n",
      "[[ 0.          0.57735027  0.          0.          0.          0.\n",
      "   0.         -0.57735027 -0.57735027  0.        ]]\n"
     ]
    }
   ],
   "source": [
    "# transform\n",
    "vectorizer = HashingVectorizer(n_features=10)\n",
    "# create the hashing vector\n",
    "vector = vectorizer.transform(text)\n",
    "# summarize the vector\n",
    "print(vector.shape)\n",
    "print(vector.toarray())"
   ]
  }
 ],
 "metadata": {
  "kernelspec": {
   "display_name": "Python 3",
   "language": "python",
   "name": "python3"
  },
  "language_info": {
   "codemirror_mode": {
    "name": "ipython",
    "version": 3
   },
   "file_extension": ".py",
   "mimetype": "text/x-python",
   "name": "python",
   "nbconvert_exporter": "python",
   "pygments_lexer": "ipython3",
   "version": "3.7.1"
  }
 },
 "nbformat": 4,
 "nbformat_minor": 2
}
