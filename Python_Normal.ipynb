{
 "cells": [
  {
   "cell_type": "code",
   "execution_count": 18,
   "metadata": {},
   "outputs": [
    {
     "name": "stdout",
     "output_type": "stream",
     "text": [
      "name:truc\n",
      "age:23\n",
      "dict_keys(['name', 'age'])\n",
      "dict_values(['truc', 23])\n"
     ]
    }
   ],
   "source": [
    "dict ={'name':'truc','age':23}\n",
    "for k,v in dict.items():\n",
    "    print(\"{}:{}\".format(k,v))\n",
    "print(dict.keys())\n",
    "print(dict.values())"
   ]
  },
  {
   "cell_type": "code",
   "execution_count": 7,
   "metadata": {},
   "outputs": [
    {
     "data": {
      "text/plain": [
       "4"
      ]
     },
     "execution_count": 7,
     "metadata": {},
     "output_type": "execute_result"
    }
   ],
   "source": [
    "from random import seed\n",
    "from random import randrange\n",
    "randrange(-1,9)"
   ]
  },
  {
   "cell_type": "code",
   "execution_count": 33,
   "metadata": {},
   "outputs": [
    {
     "name": "stdout",
     "output_type": "stream",
     "text": [
      "3.3000000000000003\n",
      "3/2\n",
      "-6.405331196646276\n"
     ]
    }
   ],
   "source": [
    "from fractions import Fraction\n",
    "(1.1+2.2)==3.3\n",
    "print(1.1+2.2)\n",
    "print(Fraction(1.5))\n",
    "import math\n",
    "math.factorial(5)\n",
    "print(math.tan(30))"
   ]
  },
  {
   "cell_type": "code",
   "execution_count": 25,
   "metadata": {},
   "outputs": [
    {
     "name": "stdout",
     "output_type": "stream",
     "text": [
      "(2+1j)\n",
      "7\n",
      "8\n",
      "255\n"
     ]
    }
   ],
   "source": [
    "a=2+1j\n",
    "print(a)\n",
    "b = 0b111\n",
    "print(b)\n",
    "c = 0o10\n",
    "print(c)\n",
    "d = 0xFF\n",
    "print(d)\n"
   ]
  },
  {
   "cell_type": "code",
   "execution_count": 17,
   "metadata": {},
   "outputs": [
    {
     "data": {
      "text/plain": [
       "[1, 2, 3]"
      ]
     },
     "execution_count": 17,
     "metadata": {},
     "output_type": "execute_result"
    }
   ],
   "source": [
    "list(\"123\")\n",
    "list([1,2,3])"
   ]
  },
  {
   "cell_type": "code",
   "execution_count": 14,
   "metadata": {},
   "outputs": [
    {
     "name": "stdout",
     "output_type": "stream",
     "text": [
      "[1, 2, 3, 4, 5, 6]\n",
      "[[1, 2, 3], [4, 5, 6]]\n"
     ]
    }
   ],
   "source": [
    "num =[1,2,3,4,5,6]\n",
    "print(num)\n",
    "num2 =[[1,2,3],[4,5,6]]\n",
    "print(num2)"
   ]
  },
  {
   "cell_type": "code",
   "execution_count": 11,
   "metadata": {},
   "outputs": [
    {
     "name": "stdout",
     "output_type": "stream",
     "text": [
      "Hello tran trungtruc\n",
      " hello \n",
      "ta\n"
     ]
    }
   ],
   "source": [
    "print('Hello tran trung\\\n",
    "truc')\n",
    "print(\"\"\" hello \n",
    "ta\"\"\")"
   ]
  },
  {
   "cell_type": "code",
   "execution_count": 22,
   "metadata": {},
   "outputs": [
    {
     "name": "stdout",
     "output_type": "stream",
     "text": [
      "<function <lambda> at 0x0000028568169158>\n"
     ]
    }
   ],
   "source": [
    "lambda x: x*3\n",
    "a= lambda x:\" \".join('truc')\n",
    "print(a)"
   ]
  },
  {
   "cell_type": "code",
   "execution_count": 28,
   "metadata": {},
   "outputs": [
    {
     "name": "stdout",
     "output_type": "stream",
     "text": [
      "[2, 3, 11]\n"
     ]
    }
   ],
   "source": [
    "aray=[11,2,3]\n",
    "\n",
    "print(sorted(aray))\n"
   ]
  },
  {
   "cell_type": "code",
   "execution_count": 8,
   "metadata": {},
   "outputs": [
    {
     "name": "stdout",
     "output_type": "stream",
     "text": [
      "[2, 4, 6, 8]\n"
     ]
    }
   ],
   "source": [
    "nums=[1,2,3,4]\n",
    "mulnums = [num*2 for num in nums]\n",
    "print(mulnums)"
   ]
  },
  {
   "cell_type": "code",
   "execution_count": 11,
   "metadata": {},
   "outputs": [
    {
     "name": "stdout",
     "output_type": "stream",
     "text": [
      "['a', 'b', 'c']\n",
      "['d', 'e', 'f']\n",
      "a b c d e f\n"
     ]
    }
   ],
   "source": [
    "list_paragraph=[['a','b','c'],['d','e','f']]\n",
    "for para in list_paragraph:\n",
    "    print(para)\n",
    "change =[para for lists in list_paragraph for para in lists]\n",
    "string =\" \".join(change)\n",
    "print(string)"
   ]
  },
  {
   "cell_type": "code",
   "execution_count": 15,
   "metadata": {},
   "outputs": [
    {
     "name": "stdout",
     "output_type": "stream",
     "text": [
      "2.50 truc \n",
      "2.5truc\n",
      "this\\f?ff\n"
     ]
    }
   ],
   "source": [
    "templet =\"%.2f %s \"\n",
    "exam = templet %(2.5,'truc')\n",
    "print(exam)\n",
    "print(\"{}{}\".format(2.5,'truc'))\n",
    "str1 = r'this\\f?ff'\n",
    "print(str1)"
   ]
  }
 ],
 "metadata": {
  "kernelspec": {
   "display_name": "Python 3",
   "language": "python",
   "name": "python3"
  },
  "language_info": {
   "codemirror_mode": {
    "name": "ipython",
    "version": 3
   },
   "file_extension": ".py",
   "mimetype": "text/x-python",
   "name": "python",
   "nbconvert_exporter": "python",
   "pygments_lexer": "ipython3",
   "version": "3.7.1"
  }
 },
 "nbformat": 4,
 "nbformat_minor": 2
}
