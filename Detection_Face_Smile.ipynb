{
 "cells": [
  {
   "cell_type": "code",
   "execution_count": 6,
   "metadata": {},
   "outputs": [
    {
     "data": {
      "text/plain": [
       "<function destroyAllWindows>"
      ]
     },
     "execution_count": 6,
     "metadata": {},
     "output_type": "execute_result"
    }
   ],
   "source": [
    "import dlib\n",
    "import cv2\n",
    "from math import sqrt\n",
    "predictor = dlib.shape_predictor('shape_predictor_68_face_landmarks.dat')\n",
    "detector = dlib.get_frontal_face_detector() #Load face detector\n",
    "vs = cv2.VideoCapture(0)\n",
    "while True:\n",
    "   check, frame = vs.read()\n",
    "   gray = cv2.cvtColor(frame, cv2.COLOR_BGR2GRAY)\n",
    "   dets = detector(gray, 0)  #Xác định vị trí khuôn mặt trong bức ảnh    \n",
    "   for rect in dets:\n",
    "       x = rect.left()\n",
    "       y = rect.top()\n",
    "       w = rect.right()\n",
    "       h = rect.bottom()\n",
    "       cv2.rectangle(frame, (x, y), (x + w, y + h), (0, 255, 0), 1)\t\t\n",
    "       landmark = predictor(gray, rect)\n",
    "       lines = []\n",
    "       # Xác định facial landmark trên khuôn mặt\n",
    "       for k, d in enumerate(landmark.parts()):\n",
    "           #xác định khung miệng\n",
    "           if(k>=60 and k<=68):\n",
    "               lines.append((d.x,d.y))\n",
    "\n",
    "       #tìm điểm trung bình line\n",
    "       x_line = round((lines[4][0]+lines[0][0])/2)\n",
    "       y_line = round((lines[4][1]+lines[0][1])/2)\n",
    "\n",
    "       #tính toán khoảng cách\n",
    "\n",
    "       # Khoảng cách đến môi trên\n",
    "       u_x = (lines[2][0]-x_line)*(lines[2][0]-x_line)\n",
    "       u_y = (lines[2][1]-y_line)*(lines[2][1]-y_line)\n",
    "\n",
    "       # Khoảng cách đến môi dưới\n",
    "       d_x = (lines[6][0]-x_line)*(lines[6][0]-x_line)\n",
    "       d_y = (lines[6][1]-y_line)*(lines[6][1]-y_line)\n",
    "\n",
    "       #kết luận\n",
    "       if sqrt(u_x+u_y) < sqrt(d_x+d_y):\n",
    "           cv2.putText(frame, 'Happy', (50,50), cv2.FONT_HERSHEY_SIMPLEX , 1, (255, 0, 0) , 2, cv2.LINE_AA) \n",
    "       elif sqrt(u_x+u_y) > sqrt(d_x+d_y):\n",
    "           if sqrt(u_x+u_y) - sqrt(d_x+d_y) >= 1: #tính độ chênh lệch ( độ chênh lệch tương đương khoảng cách đỉnh môi trên và dưới. Lưu ý : Điểu chỉnh điều kiện để tạo độ nhạy !\n",
    "               cv2.putText(frame, 'Sad', (50,50), cv2.FONT_HERSHEY_SIMPLEX , 1, (255, 0, 0) , 2, cv2.LINE_AA) \n",
    "           else:\n",
    "               cv2.putText(frame, 'Normal', (50,50), cv2.FONT_HERSHEY_SIMPLEX , 1, (255, 0, 0) , 2, cv2.LINE_AA)\n",
    "\n",
    "       cv2.line(frame, (lines[0][0],lines[0][1]) , (lines[4][0],lines[4][1]), (193, 42, 77), 2)\n",
    "       cv2.circle(frame, (x_line, y_line), 5, (0, 0, 255), -1)\n",
    "   cv2.imshow('Face video', frame)\n",
    "   key = cv2.waitKey(1)\n",
    "   if key == ord('q'):\n",
    "       break\n",
    "cv2.destroyAllWindows"
   ]
  },
  {
   "cell_type": "code",
   "execution_count": 3,
   "metadata": {},
   "outputs": [
    {
     "ename": "NameError",
     "evalue": "name 'var' is not defined",
     "output_type": "error",
     "traceback": [
      "\u001b[1;31m---------------------------------------------------------------------------\u001b[0m",
      "\u001b[1;31mNameError\u001b[0m                                 Traceback (most recent call last)",
      "\u001b[1;32m<ipython-input-3-ee3febfeced5>\u001b[0m in \u001b[0;36m<module>\u001b[1;34m\u001b[0m\n\u001b[0;32m      6\u001b[0m \u001b[0map\u001b[0m  \u001b[1;33m=\u001b[0m \u001b[0margparse\u001b[0m\u001b[1;33m.\u001b[0m\u001b[0mArgumentParser\u001b[0m\u001b[1;33m(\u001b[0m\u001b[1;33m)\u001b[0m\u001b[1;33m\u001b[0m\u001b[1;33m\u001b[0m\u001b[0m\n\u001b[0;32m      7\u001b[0m \u001b[0map\u001b[0m\u001b[1;33m.\u001b[0m\u001b[0madd_argument\u001b[0m\u001b[1;33m(\u001b[0m \u001b[1;34m'-i'\u001b[0m\u001b[1;33m,\u001b[0m\u001b[1;34m'--image'\u001b[0m\u001b[1;33m,\u001b[0m \u001b[0mrequired\u001b[0m\u001b[1;33m=\u001b[0m\u001b[1;32mTrue\u001b[0m\u001b[1;33m,\u001b[0m\u001b[0mhelp\u001b[0m\u001b[1;33m=\u001b[0m\u001b[1;34m'Image Path'\u001b[0m\u001b[1;33m)\u001b[0m\u001b[1;33m\u001b[0m\u001b[1;33m\u001b[0m\u001b[0m\n\u001b[1;32m----> 8\u001b[1;33m \u001b[0margs\u001b[0m \u001b[1;33m=\u001b[0m \u001b[0mvar\u001b[0m\u001b[1;33m(\u001b[0m\u001b[0map\u001b[0m\u001b[1;33m.\u001b[0m\u001b[0mparse_args\u001b[0m\u001b[1;33m(\u001b[0m\u001b[1;33m)\u001b[0m\u001b[1;33m)\u001b[0m\u001b[1;33m\u001b[0m\u001b[1;33m\u001b[0m\u001b[0m\n\u001b[0m\u001b[0;32m      9\u001b[0m \u001b[0mimg_path\u001b[0m \u001b[1;33m=\u001b[0m \u001b[0margs\u001b[0m\u001b[1;33m[\u001b[0m\u001b[1;34m'image'\u001b[0m\u001b[1;33m]\u001b[0m\u001b[1;33m\u001b[0m\u001b[1;33m\u001b[0m\u001b[0m\n\u001b[0;32m     10\u001b[0m \u001b[1;31m# read image with OpenCV\u001b[0m\u001b[1;33m\u001b[0m\u001b[1;33m\u001b[0m\u001b[1;33m\u001b[0m\u001b[0m\n",
      "\u001b[1;31mNameError\u001b[0m: name 'var' is not defined"
     ]
    }
   ],
   "source": [
    "import argparse\n",
    "import cv2\n",
    "import numpy as np\n",
    "import pandas as pd\n",
    "\n",
    "ap  = argparse.ArgumentParser()\n",
    "ap.add_argument( '-i','--image', required=True,help='Image Path')\n",
    "args = var(ap.parse_args())\n",
    "img_path = args['image']\n",
    "# read image with OpenCV\n",
    "img = cv2.imread('img_path')"
   ]
  }
 ],
 "metadata": {
  "kernelspec": {
   "display_name": "Python 3",
   "language": "python",
   "name": "python3"
  },
  "language_info": {
   "codemirror_mode": {
    "name": "ipython",
    "version": 3
   },
   "file_extension": ".py",
   "mimetype": "text/x-python",
   "name": "python",
   "nbconvert_exporter": "python",
   "pygments_lexer": "ipython3",
   "version": "3.7.1"
  }
 },
 "nbformat": 4,
 "nbformat_minor": 2
}
