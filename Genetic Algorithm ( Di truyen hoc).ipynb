{
 "cells": [
  {
   "cell_type": "code",
   "execution_count": null,
   "metadata": {},
   "outputs": [],
   "source": [
    "import random\n",
    "import datetime\n",
    "geneSet ='abcdefghijklmnopqrstuvwxyzABCDEFGHIJKLMNOPQRSTUVWXYZ!.'\n",
    "target ='Hello world'\n",
    "def gen_parent(length):\n",
    "    genes =[]\n",
    "    while len(genes)< length:\n",
    "        sampleSize = min(length - len(genes), len(geneSet))\n",
    "        genes.extend(random.sample(geneSet, sampleSize))\n",
    "    return \"\".join(genes)\n",
    "print(random.sample('abcd',3))\n",
    "def get_fitness(guess):\n",
    "    return sum(1 for expected,actual in zip(target,guess) if expected==actual)\n",
    "def mutate(parent):\n",
    "    index = random.randrange(0, len(parent))\n",
    "    childGenes = list(parent)\n",
    "    newGene,alternate=random.sample(geneSet,2)\n",
    "    childGenes[index]=alternate if newGene==childGenes[index] else newGene\n",
    "    return ''.join(childGenes)\n",
    "def display(guess):\n",
    "    timeDiff=datetime.datetime.now()-startTime\n",
    "    fitness=get_fitness(guess)\n",
    "    print(\"guess:{}\\t fitness:{}\\t timDiff:{}\".format(guess,fitness,timeDiff))\n",
    "random.seed()\n",
    "startTime=datetime.datetime.now()\n",
    "bestParent=gen_parent(len(target))\n",
    "bestFitness=get_fitness(bestParent)\n",
    "display(bestParent)\n",
    "while True:\n",
    "    child=mutate(bestParent)\n",
    "    childFitness=get_fitness(child)\n",
    "    if bestFitness>=childFitness:\n",
    "        continue\n",
    "    display(child)\n",
    "    if childFitness>=len(bestParent):\n",
    "        break\n",
    "    bestFitness=childFitness\n",
    "    bestParent=child"
   ]
  }
 ],
 "metadata": {
  "kernelspec": {
   "display_name": "Python 3",
   "language": "python",
   "name": "python3"
  },
  "language_info": {
   "codemirror_mode": {
    "name": "ipython",
    "version": 3
   },
   "file_extension": ".py",
   "mimetype": "text/x-python",
   "name": "python",
   "nbconvert_exporter": "python",
   "pygments_lexer": "ipython3",
   "version": "3.7.1"
  }
 },
 "nbformat": 4,
 "nbformat_minor": 2
}
