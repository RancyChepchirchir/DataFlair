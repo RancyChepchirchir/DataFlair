{
 "cells": [
  {
   "cell_type": "code",
   "execution_count": null,
   "metadata": {},
   "outputs": [],
   "source": [
    "import pandas as pd\n",
    "import numpy as np\n",
    "from sklearn.model_selection import train_test_split\n",
    "from sklearn.metrics import accuracy_score, confusion_matrix\n",
    "import itertools\n",
    "from sklearn.linear_model import PassiveAggressiveClassifier\n",
    "from sklearn.feature_extraction.text import TfidfVectorizer\n",
    "# read csv\n",
    "df = pd.read_csv('news.csv')\n",
    "df.shape\n",
    "df.head()\n",
    "labels = df.label\n",
    "labels.head()\n",
    "x_train, x_test, y_train, y_test = train_test_split(df['text'],df['label'], test_size= 0.2, random_state =7)\n",
    "# print(x_test)\n",
    "#  tfidf_vectorizer: tim co tokenizer trong chuoi text ( frequency <0.7)\n",
    "tfidf_vectorizer = TfidfVectorizer(stop_words ='english', max_df =0.7)\n",
    "# print(tfidf_vectorizer)\n",
    "#  fit and transform train set , transform test set\n",
    "tfidf_train = tfidf_vectorizer.fit_transform(x_train)\n",
    "tfidf_test  = tfidf_vectorizer.transform( x_test)\n",
    "# print(tfidf_test)\n",
    "#  initialize PassiveAggressiveClassifier\n",
    "pac = PassiveAggressiveClassifier(max_iter =50)\n",
    "print(pac)\n",
    "pac.fit(tfidf_train,y_train)\n",
    "# predict\n",
    "y_predict = pac.predict(tfidf_test)\n",
    "print(y_predict)\n",
    "accuracy = accuracy_score(y_test, y_predict)\n",
    "print(\"Score ={}\".format(accuracy*100))\n",
    "confusion_matrix(y_test, y_predict)\n",
    "# 585 vi tri đúng - real. 587 vị trí đúng -fake, 42 vị trí sai- real, 53 vị trí sai- fake"
   ]
  }
 ],
 "metadata": {
  "kernelspec": {
   "display_name": "Python 3",
   "language": "python",
   "name": "python3"
  },
  "language_info": {
   "codemirror_mode": {
    "name": "ipython",
    "version": 3
   },
   "file_extension": ".py",
   "mimetype": "text/x-python",
   "name": "python",
   "nbconvert_exporter": "python",
   "pygments_lexer": "ipython3",
   "version": "3.7.1"
  }
 },
 "nbformat": 4,
 "nbformat_minor": 2
}
