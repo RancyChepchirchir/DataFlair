{
 "cells": [
  {
   "cell_type": "code",
   "execution_count": 3,
   "metadata": {},
   "outputs": [
    {
     "name": "stdout",
     "output_type": "stream",
     "text": [
      "None\n"
     ]
    }
   ],
   "source": [
    "import numpy as np\n",
    "\n",
    "print(np.random.seed(seed =123))\n"
   ]
  },
  {
   "cell_type": "code",
   "execution_count": 9,
   "metadata": {
    "scrolled": true
   },
   "outputs": [
    {
     "name": "stdout",
     "output_type": "stream",
     "text": [
      "10\n",
      "sk_id_curr ndim:  0\n",
      "sk_id_curr shape: ()\n",
      "sk_id_curr size:  1\n",
      "sk_id_curr dtype:  int32\n"
     ]
    }
   ],
   "source": [
    "sk_id_curr = np.array(10)\n",
    "print (sk_id_curr)\n",
    "\n",
    "# Number of dimensions (số chiều)\n",
    "print (\"sk_id_curr ndim: \", sk_id_curr.ndim)\n",
    "\n",
    "# Dimensions\n",
    "print (\"sk_id_curr shape:\", sk_id_curr.shape)\n",
    "\n",
    "# Size of elements\n",
    "print (\"sk_id_curr size: \", sk_id_curr.size)\n",
    "\n",
    "# Data type\n",
    "print (\"sk_id_curr dtype: \", sk_id_curr.dtype)"
   ]
  },
  {
   "cell_type": "markdown",
   "metadata": {},
   "source": [
    "1 D array\n"
   ]
  },
  {
   "cell_type": "code",
   "execution_count": 23,
   "metadata": {},
   "outputs": [
    {
     "name": "stdout",
     "output_type": "stream",
     "text": [
      "sk_id_curr: [1 2 3 4 4 5]\n",
      "sk_id_curr ndim:  1\n",
      "sk_id_curr shape: (6,)\n",
      "sk_id_curr size:  6\n",
      "sk_id_curr dtype:  int32\n"
     ]
    }
   ],
   "source": [
    "a = np.array([1,2,3,4,4,5])\n",
    "print (\"sk_id_curr:\", a)\n",
    "print (\"sk_id_curr ndim: \", a.ndim)\n",
    "print (\"sk_id_curr shape:\", a.shape)\n",
    "print (\"sk_id_curr size: \", a.size)\n",
    "print (\"sk_id_curr dtype: \", a.dtype)"
   ]
  },
  {
   "cell_type": "code",
   "execution_count": 25,
   "metadata": {},
   "outputs": [
    {
     "name": "stdout",
     "output_type": "stream",
     "text": [
      "2\n",
      "(3, 2)\n",
      "6\n",
      "int32\n"
     ]
    }
   ],
   "source": [
    "a = np.array([[10,20],[10,30],[1,2]])\n",
    "print(a.ndim)\n",
    "print(a.shape)\n",
    "print(a.size)\n",
    "print(a.dtype)"
   ]
  },
  {
   "cell_type": "code",
   "execution_count": 26,
   "metadata": {},
   "outputs": [
    {
     "name": "stdout",
     "output_type": "stream",
     "text": [
      "np.zeros((2,2)): [[0. 0.]\n",
      " [0. 0.]]\n",
      "np.ones((2,2)): [[1. 1.]\n",
      " [1. 1.]]\n",
      "np.eye((2)): [[1. 0.]\n",
      " [0. 1.]]\n",
      "np.random.random((2,2)): [[0.69646919 0.28613933]\n",
      " [0.22685145 0.55131477]]\n"
     ]
    }
   ],
   "source": [
    "print (\"np.zeros((2,2)):\", np.zeros((2,2)))\n",
    "print (\"np.ones((2,2)):\", np.ones((2,2)))\n",
    "print (\"np.eye((2)):\", np.eye((2)))\n",
    "print (\"np.random.random((2,2)):\", np.random.random((2,2)))\n"
   ]
  },
  {
   "cell_type": "code",
   "execution_count": 27,
   "metadata": {},
   "outputs": [
    {
     "name": "stdout",
     "output_type": "stream",
     "text": [
      "[[100001 100005 111111]\n",
      " [100013 100028 222222]\n",
      " [100038 100042 333333]]\n",
      "sk_id_curr column 1:  [100005 100028 100042]\n",
      "sk_id_curr row 0:  [100001 100005 111111]\n",
      "sk_id_curr rows 0,1,2 & cols 1,2: [[100005 111111]\n",
      " [100028 222222]\n",
      " [100042 333333]]\n"
     ]
    }
   ],
   "source": [
    "sk_id_curr = np.array([[100001, 100005, 111111], [100013, 100028, 222222], [100038, 100042, 333333]])\n",
    "print (sk_id_curr)\n",
    "print (\"sk_id_curr column 1: \", sk_id_curr[:, 1]) \n",
    "print (\"sk_id_curr row 0: \", sk_id_curr[0, :]) \n",
    "print (\"sk_id_curr rows 0,1,2 & cols 1,2:\", sk_id_curr[:3, 1:3]) "
   ]
  },
  {
   "cell_type": "code",
   "execution_count": 28,
   "metadata": {},
   "outputs": [
    {
     "name": "stdout",
     "output_type": "stream",
     "text": [
      "sk_id_curr: [[100001 100005 111111]\n",
      " [100013 100028 222222]\n",
      " [100038 100042 333333]]\n",
      "sk_id_curr > 111111: [[False False False]\n",
      " [False False  True]\n",
      " [False False  True]]\n",
      "sk_id_curr[sk_id_curr > 111111]: [222222 333333]\n"
     ]
    }
   ],
   "source": [
    "sk_id_curr = np.array([[100001, 100005, 111111], [100013, 100028, 222222], [100038, 100042, 333333]])\n",
    "print (\"sk_id_curr:\", sk_id_curr)\n",
    "print (\"sk_id_curr > 111111:\", sk_id_curr > 111111)\n",
    "print (\"sk_id_curr[sk_id_curr > 111111]:\", sk_id_curr[sk_id_curr > 111111])"
   ]
  },
  {
   "cell_type": "code",
   "execution_count": 34,
   "metadata": {},
   "outputs": [
    {
     "data": {
      "application/json": {
       "cell": {
        "!": "OSMagics",
        "HTML": "Other",
        "SVG": "Other",
        "bash": "Other",
        "capture": "ExecutionMagics",
        "cmd": "Other",
        "debug": "ExecutionMagics",
        "file": "Other",
        "html": "DisplayMagics",
        "javascript": "DisplayMagics",
        "js": "DisplayMagics",
        "latex": "DisplayMagics",
        "markdown": "DisplayMagics",
        "perl": "Other",
        "prun": "ExecutionMagics",
        "pypy": "Other",
        "python": "Other",
        "python2": "Other",
        "python3": "Other",
        "ruby": "Other",
        "script": "ScriptMagics",
        "sh": "Other",
        "svg": "DisplayMagics",
        "sx": "OSMagics",
        "system": "OSMagics",
        "time": "ExecutionMagics",
        "timeit": "ExecutionMagics",
        "writefile": "OSMagics"
       },
       "line": {
        "alias": "OSMagics",
        "alias_magic": "BasicMagics",
        "autoawait": "AsyncMagics",
        "autocall": "AutoMagics",
        "automagic": "AutoMagics",
        "autosave": "KernelMagics",
        "bookmark": "OSMagics",
        "cd": "OSMagics",
        "clear": "KernelMagics",
        "cls": "KernelMagics",
        "colors": "BasicMagics",
        "config": "ConfigMagics",
        "connect_info": "KernelMagics",
        "copy": "Other",
        "ddir": "Other",
        "debug": "ExecutionMagics",
        "dhist": "OSMagics",
        "dirs": "OSMagics",
        "doctest_mode": "BasicMagics",
        "echo": "Other",
        "ed": "Other",
        "edit": "KernelMagics",
        "env": "OSMagics",
        "gui": "BasicMagics",
        "hist": "Other",
        "history": "HistoryMagics",
        "killbgscripts": "ScriptMagics",
        "ldir": "Other",
        "less": "KernelMagics",
        "load": "CodeMagics",
        "load_ext": "ExtensionMagics",
        "loadpy": "CodeMagics",
        "logoff": "LoggingMagics",
        "logon": "LoggingMagics",
        "logstart": "LoggingMagics",
        "logstate": "LoggingMagics",
        "logstop": "LoggingMagics",
        "ls": "Other",
        "lsmagic": "BasicMagics",
        "macro": "ExecutionMagics",
        "magic": "BasicMagics",
        "matplotlib": "PylabMagics",
        "mkdir": "Other",
        "more": "KernelMagics",
        "notebook": "BasicMagics",
        "page": "BasicMagics",
        "pastebin": "CodeMagics",
        "pdb": "ExecutionMagics",
        "pdef": "NamespaceMagics",
        "pdoc": "NamespaceMagics",
        "pfile": "NamespaceMagics",
        "pinfo": "NamespaceMagics",
        "pinfo2": "NamespaceMagics",
        "pip": "BasicMagics",
        "popd": "OSMagics",
        "pprint": "BasicMagics",
        "precision": "BasicMagics",
        "prun": "ExecutionMagics",
        "psearch": "NamespaceMagics",
        "psource": "NamespaceMagics",
        "pushd": "OSMagics",
        "pwd": "OSMagics",
        "pycat": "OSMagics",
        "pylab": "PylabMagics",
        "qtconsole": "KernelMagics",
        "quickref": "BasicMagics",
        "recall": "HistoryMagics",
        "rehashx": "OSMagics",
        "reload_ext": "ExtensionMagics",
        "ren": "Other",
        "rep": "Other",
        "rerun": "HistoryMagics",
        "reset": "NamespaceMagics",
        "reset_selective": "NamespaceMagics",
        "rmdir": "Other",
        "run": "ExecutionMagics",
        "save": "CodeMagics",
        "sc": "OSMagics",
        "set_env": "OSMagics",
        "store": "StoreMagics",
        "sx": "OSMagics",
        "system": "OSMagics",
        "tb": "ExecutionMagics",
        "time": "ExecutionMagics",
        "timeit": "ExecutionMagics",
        "unalias": "OSMagics",
        "unload_ext": "ExtensionMagics",
        "who": "NamespaceMagics",
        "who_ls": "NamespaceMagics",
        "whos": "NamespaceMagics",
        "xdel": "NamespaceMagics",
        "xmode": "BasicMagics"
       }
      },
      "text/plain": [
       "Available line magics:\n",
       "%alias  %alias_magic  %autoawait  %autocall  %automagic  %autosave  %bookmark  %cd  %clear  %cls  %colors  %config  %connect_info  %copy  %ddir  %debug  %dhist  %dirs  %doctest_mode  %echo  %ed  %edit  %env  %gui  %hist  %history  %killbgscripts  %ldir  %less  %load  %load_ext  %loadpy  %logoff  %logon  %logstart  %logstate  %logstop  %ls  %lsmagic  %macro  %magic  %matplotlib  %mkdir  %more  %notebook  %page  %pastebin  %pdb  %pdef  %pdoc  %pfile  %pinfo  %pinfo2  %popd  %pprint  %precision  %prun  %psearch  %psource  %pushd  %pwd  %pycat  %pylab  %qtconsole  %quickref  %recall  %rehashx  %reload_ext  %ren  %rep  %rerun  %reset  %reset_selective  %rmdir  %run  %save  %sc  %set_env  %store  %sx  %system  %tb  %time  %timeit  %unalias  %unload_ext  %who  %who_ls  %whos  %xdel  %xmode\n",
       "\n",
       "Available cell magics:\n",
       "%%!  %%HTML  %%SVG  %%bash  %%capture  %%cmd  %%debug  %%file  %%html  %%javascript  %%js  %%latex  %%markdown  %%perl  %%prun  %%pypy  %%python  %%python2  %%python3  %%ruby  %%script  %%sh  %%svg  %%sx  %%system  %%time  %%timeit  %%writefile\n",
       "\n",
       "Automagic is ON, % prefix IS NOT needed for line magics."
      ]
     },
     "execution_count": 34,
     "metadata": {},
     "output_type": "execute_result"
    }
   ],
   "source": [
    "%lsmagic"
   ]
  },
  {
   "cell_type": "code",
   "execution_count": 98,
   "metadata": {},
   "outputs": [
    {
     "name": "stdout",
     "output_type": "stream",
     "text": [
      "[[ 5.  7.]\n",
      " [ 9. 11.]]\n",
      "[[-3. -3.]\n",
      " [-3. -3.]]\n",
      "[[ 4. 10.]\n",
      " [18. 28.]]\n",
      "[[0.25       0.4       ]\n",
      " [0.5        0.57142857]]\n",
      "[[ 2.71828183  7.3890561 ]\n",
      " [20.08553692 54.59815003]]\n",
      "[[False False]\n",
      " [False False]]\n",
      "[[ True False]\n",
      " [False False]]\n",
      "[1. 2. 3.]\n",
      "False\n"
     ]
    }
   ],
   "source": [
    "x = np.array([[1,2], [3,4]], dtype=np.float64)\n",
    "y = np.array([[4,5],[6,7]], dtype= np.float64)\n",
    "print(np.add(x,y))\n",
    "print(np.subtract(x,y))\n",
    "print(np.multiply(x,y))\n",
    "print(np.divide(x,y))\n",
    "print(np.exp(x))\n",
    "print(x==y)\n",
    "print(x<2)\n",
    "print(x[x<4])\n",
    "print(np.array_equal(x,y))"
   ]
  },
  {
   "cell_type": "code",
   "execution_count": 36,
   "metadata": {},
   "outputs": [
    {
     "name": "stdout",
     "output_type": "stream",
     "text": [
      "[4. 5. 9.]\n"
     ]
    }
   ],
   "source": [
    "a= np.array([1,2],dtype=np.float64)\n",
    "b = np.array([[2,3,1],[1,1,4]], dtype = np.float64)\n",
    "print(a.dot(b))"
   ]
  },
  {
   "cell_type": "code",
   "execution_count": 87,
   "metadata": {},
   "outputs": [
    {
     "name": "stdout",
     "output_type": "stream",
     "text": [
      "sum all: 10\n",
      "sum columns: [4 6]\n",
      "sum row: [3 7]\n",
      "1\n",
      "[3 4]\n",
      "[2 4]\n",
      "2.5\n",
      "2.5\n"
     ]
    }
   ],
   "source": [
    "x= np.array([[1,2],[3,4]])\n",
    "print( \"sum all:\",np.sum(x))\n",
    "print(\"sum columns:\", np.sum(x,axis=0))\n",
    "print(\"sum row:\", np.sum(x, axis=1))\n",
    "print(x.min())\n",
    "print(x.max(axis=0))# rows\n",
    "print(x.max(axis=1))# columns\n",
    "print(np.mean(x))\n",
    "print(np.median(x))"
   ]
  },
  {
   "cell_type": "code",
   "execution_count": 96,
   "metadata": {},
   "outputs": [
    {
     "name": "stdout",
     "output_type": "stream",
     "text": [
      "[[1 2]\n",
      " [3 4]]\n",
      "[[1 2]\n",
      " [3 4]]\n",
      "2\n",
      "[1 2]\n"
     ]
    }
   ],
   "source": [
    "x= np.array([[1,2],[3,4]])\n",
    "y= x.copy()\n",
    "z=np.copy(x)\n",
    "print(y)\n",
    "print(z)\n",
    "print(x[0,1])\n",
    "print(x[0,:])"
   ]
  },
  {
   "cell_type": "code",
   "execution_count": 41,
   "metadata": {},
   "outputs": [
    {
     "name": "stdout",
     "output_type": "stream",
     "text": [
      "x: [[1 2]\n",
      " [3 4]]\n",
      "chuyen vi x: [[1 3]\n",
      " [2 4]]\n"
     ]
    }
   ],
   "source": [
    "x= np.array([[1,2],[3,4]])\n",
    "print(\"x:\",x)\n",
    "print(\"chuyen vi x:\",x.T)"
   ]
  },
  {
   "cell_type": "code",
   "execution_count": 42,
   "metadata": {},
   "outputs": [
    {
     "name": "stdout",
     "output_type": "stream",
     "text": [
      "[[ 6  8]\n",
      " [ 8 10]]\n"
     ]
    }
   ],
   "source": [
    "x= np.array([[1,2],[3,4]])\n",
    "y = np.array([5,6])\n",
    "z=x+y\n",
    "print(z)"
   ]
  },
  {
   "cell_type": "code",
   "execution_count": 44,
   "metadata": {},
   "outputs": [
    {
     "name": "stdout",
     "output_type": "stream",
     "text": [
      "x: [[1 2]\n",
      " [3 4]\n",
      " [5 6]]\n",
      "shape: (3, 2)\n",
      "[[1 2 3]\n",
      " [4 5 6]]\n",
      "(2, 3)\n"
     ]
    }
   ],
   "source": [
    "x= np.array([[1,2],[3,4],[5,6]])\n",
    "print(\"x:\",x)\n",
    "print(\"shape:\",x.shape)\n",
    "y = np.reshape(x, (2,3))\n",
    "print(y)\n",
    "print(y.shape)"
   ]
  },
  {
   "cell_type": "code",
   "execution_count": 74,
   "metadata": {},
   "outputs": [
    {
     "name": "stdout",
     "output_type": "stream",
     "text": [
      "[[[1 1 1 1]\n",
      "  [1 1 1 1]\n",
      "  [1 1 1 1]]\n",
      "\n",
      " [[1 1 1 1]\n",
      "  [1 1 1 1]\n",
      "  [1 1 1 1]]]\n",
      "3\n",
      "[[[0. 0.]\n",
      "  [0. 0.]\n",
      "  [0. 0.]]\n",
      "\n",
      " [[0. 0.]\n",
      "  [0. 0.]\n",
      "  [0. 0.]]\n",
      "\n",
      " [[0. 0.]\n",
      "  [0. 0.]\n",
      "  [0. 0.]]\n",
      "\n",
      " [[0. 0.]\n",
      "  [0. 0.]\n",
      "  [0. 0.]]]\n",
      "3\n",
      "[10 15 20 25]\n",
      "[0.         0.28571429 0.57142857 0.85714286 1.14285714 1.42857143\n",
      " 1.71428571 2.        ]\n",
      "[[1. 0. 0.]\n",
      " [0. 1. 0.]\n",
      " [0. 0. 1.]]\n",
      "[[0.87545684 0.51042234 0.66931378]\n",
      " [0.58593655 0.6249035  0.67468905]]\n",
      "empty: [[0.87545684 0.51042234]\n",
      " [0.66931378 0.58593655]\n",
      " [0.6249035  0.67468905]]\n",
      "full: [[7 7 7]\n",
      " [7 7 7]\n",
      " [7 7 7]\n",
      " [7 7 7]]\n"
     ]
    }
   ],
   "source": [
    "a = np.ones((2,3,4), dtype= np.int16)\n",
    "print(a)\n",
    "print(a.ndim)\n",
    "b = np.zeros((4,3,2), dtype =np.float64)\n",
    "print(b)\n",
    "print(b.ndim)\n",
    "print(np.arange(10,30,5))\n",
    "print(np.linspace(0,2,8))\n",
    "print(np.eye(3))\n",
    "print(np.random.random((2,3)))\n",
    "print(\"empty:\",np.empty((3,2)))\n",
    "c = np.full((4,3),7)#constant\n",
    "print(\"full:\",c)"
   ]
  },
  {
   "cell_type": "code",
   "execution_count": 75,
   "metadata": {},
   "outputs": [
    {
     "name": "stdout",
     "output_type": "stream",
     "text": [
      "Data-type of the array's elements.\n",
      "\n",
      "Parameters\n",
      "----------\n",
      "None\n",
      "\n",
      "Returns\n",
      "-------\n",
      "d : numpy dtype object\n",
      "\n",
      "See Also\n",
      "--------\n",
      "numpy.dtype\n",
      "\n",
      "Examples\n",
      "--------\n",
      ">>> x\n",
      "array([[0, 1],\n",
      "       [2, 3]])\n",
      ">>> x.dtype\n",
      "dtype('int32')\n",
      ">>> type(x.dtype)\n",
      "<type 'numpy.dtype'>\n"
     ]
    }
   ],
   "source": [
    " np.info(np.ndarray.dtype)\n",
    "    "
   ]
  },
  {
   "cell_type": "code",
   "execution_count": 120,
   "metadata": {},
   "outputs": [
    {
     "name": "stdout",
     "output_type": "stream",
     "text": [
      "[ 1 23  4  5  6  7]\n",
      "[[ 1 23  4  5  6  7]]\n",
      "[[ 1 23  4]\n",
      " [ 5  6  7]]\n",
      "[ 1 23  4  5  6  7  2  3]\n",
      "[ 1  2  3 23  4  5  6  7]\n"
     ]
    }
   ],
   "source": [
    "b= np.array([[1,23],[4,5],[6,7]])\n",
    "e = np.copy(b)\n",
    "print(e.ravel())#flatern array\n",
    "print(e.reshape(1,6))\n",
    "print(e.reshape(2,3))\n",
    "c = np.append(b, [2,3])\n",
    "d = np.insert(b,1,[2,3])\n",
    "print(c)\n",
    "print(d)"
   ]
  }
 ],
 "metadata": {
  "kernelspec": {
   "display_name": "Python 3",
   "language": "python",
   "name": "python3"
  },
  "language_info": {
   "codemirror_mode": {
    "name": "ipython",
    "version": 3
   },
   "file_extension": ".py",
   "mimetype": "text/x-python",
   "name": "python",
   "nbconvert_exporter": "python",
   "pygments_lexer": "ipython3",
   "version": "3.7.1"
  }
 },
 "nbformat": 4,
 "nbformat_minor": 2
}
