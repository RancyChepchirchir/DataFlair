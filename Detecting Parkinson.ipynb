{
 "cells": [
  {
   "cell_type": "code",
   "execution_count": 41,
   "metadata": {},
   "outputs": [
    {
     "name": "stdout",
     "output_type": "stream",
     "text": [
      "[[119.992 157.302 74.997 ... 0.266482 2.3014419999999998 0.284654]\n",
      " [122.4 148.65 113.819 ... 0.33559 2.486855 0.368674]\n",
      " [116.682 131.111 111.555 ... 0.311173 2.342259 0.33263400000000004]\n",
      " ...\n",
      " [174.688 240.005 74.287 ... 0.158453 2.6797720000000003\n",
      "  0.13172799999999998]\n",
      " [198.764 396.961 74.904 ... 0.207454 2.138608 0.123306]\n",
      " [214.289 260.277 77.973 ... 0.190667 2.555477 0.148569]]\n",
      "[1 1 1 1 1 1 1 1 1 1 1 1 1 1 1 1 1 1 1 1 1 1 1 1 1 1 1 1 1 1 0 0 0 0 0 0 1\n",
      " 1 1 1 1 1 0 0 0 0 0 0 0 0 0 0 0 0 1 1 1 1 1 1 0 0 0 0 0 0 1 1 1 1 1 1 1 1\n",
      " 1 1 1 1 1 1 1 1 1 1 1 1 1 1 1 1 1 1 1 1 1 1 1 1 1 1 1 1 1 1 1 1 1 1 1 1 1\n",
      " 1 1 1 1 1 1 1 1 1 1 1 1 1 1 1 1 1 1 1 1 1 1 1 1 1 1 1 1 1 1 1 1 1 1 1 1 1\n",
      " 1 1 1 1 1 1 1 1 1 1 1 1 1 1 1 1 1 0 0 0 0 0 0 0 0 0 0 0 0 1 1 1 1 1 1 0 0\n",
      " 0 0 0 0 0 0 0 0 0 0]\n",
      "48 147\n",
      "[[-0.63138346 -0.77481654 -0.89037042 ...  0.17153026 -0.21867743\n",
      "  -0.0053808 ]\n",
      " [-0.6033463  -0.81013911 -0.4433544  ...  0.48267409 -0.05370956\n",
      "   0.34265204]\n",
      " [-0.66992292 -0.88174367 -0.46942324 ...  0.37274182 -0.18236124\n",
      "   0.19336492]\n",
      " ...\n",
      " [ 0.00546073 -0.43717403 -0.89854572 ... -0.31484696  0.11793486\n",
      "  -0.63884033]\n",
      " [ 0.28578581  0.20361309 -0.89144127 ... -0.09423055 -0.36355605\n",
      "  -0.67372646]\n",
      " [ 0.46654868 -0.35441175 -0.85610326 ... -0.16981039  0.00734563\n",
      "  -0.5690805 ]]\n",
      "[1 1 1 1 1 1 1 1 1 1 1 1 1 1 1 1 1 1 1 1 1 1 1 1 1 1 1 1 1 1 0 0 0 0 0 0 1\n",
      " 1 1 1 1 1 0 0 0 0 0 0 0 0 0 0 0 0 1 1 1 1 1 1 0 0 0 0 0 0 1 1 1 1 1 1 1 1\n",
      " 1 1 1 1 1 1 1 1 1 1 1 1 1 1 1 1 1 1 1 1 1 1 1 1 1 1 1 1 1 1 1 1 1 1 1 1 1\n",
      " 1 1 1 1 1 1 1 1 1 1 1 1 1 1 1 1 1 1 1 1 1 1 1 1 1 1 1 1 1 1 1 1 1 1 1 1 1\n",
      " 1 1 1 1 1 1 1 1 1 1 1 1 1 1 1 1 1 0 0 0 0 0 0 0 0 0 0 0 0 1 1 1 1 1 1 0 0\n",
      " 0 0 0 0 0 0 0 0 0 0]\n"
     ]
    },
    {
     "name": "stderr",
     "output_type": "stream",
     "text": [
      "C:\\ProgramData\\Anaconda3\\lib\\site-packages\\sklearn\\utils\\validation.py:595: DataConversionWarning: Data with input dtype object was converted to float64 by MinMaxScaler.\n",
      "  warnings.warn(msg, DataConversionWarning)\n"
     ]
    },
    {
     "name": "stdout",
     "output_type": "stream",
     "text": [
      "  predict : [1 1 1 1 1 1 1 1 1 1 0 1 1 0 1 1 1 0 1 1 1 1 1 1 1 1 0 1 1 1 1 1 1 1 0 1 1\n",
      " 1 1]\n",
      "score:  94.87179487179486\n"
     ]
    }
   ],
   "source": [
    "import pandas as pd\n",
    "import numpy as np\n",
    "from sklearn.model_selection import train_test_split\n",
    "from sklearn.metrics import accuracy_score, confusion_matrix\n",
    "from xgboost import XGBClassifier\n",
    "from sklearn.preprocessing import MinMaxScaler\n",
    "#  read csv\n",
    "df = pd.read_csv('parkinsons.data')\n",
    "df.shape\n",
    "df.head()\n",
    "feature = df.loc[:, df.columns !='status'].values[:,1:]\n",
    "labels   = df['status'].values\n",
    "print(feature)\n",
    "print(labels)\n",
    "#  count label 0 and 1\n",
    "print( labels[labels ==0].shape[0], labels[labels ==1].shape[0])\n",
    "scaler = MinMaxScaler((-1,1))\n",
    "# print(scaler)\n",
    "x = scaler.fit_transform(feature)\n",
    "print(x)\n",
    "y = labels\n",
    "print(y)\n",
    "# split train, test\n",
    "x_train, x_test, y_train, y_test = train_test_split(x,y,test_size=0.2, random_state =7)\n",
    "model = XGBClassifier()\n",
    "model.fit(x_train, y_train)\n",
    "y_pred = model.predict(x_test)\n",
    "print(\"  predict :\",y_pred)\n",
    "score = accuracy_score(y_test, y_pred)\n",
    "print(\"score: \",100*score)"
   ]
  }
 ],
 "metadata": {
  "kernelspec": {
   "display_name": "Python 3",
   "language": "python",
   "name": "python3"
  },
  "language_info": {
   "codemirror_mode": {
    "name": "ipython",
    "version": 3
   },
   "file_extension": ".py",
   "mimetype": "text/x-python",
   "name": "python",
   "nbconvert_exporter": "python",
   "pygments_lexer": "ipython3",
   "version": "3.7.1"
  }
 },
 "nbformat": 4,
 "nbformat_minor": 2
}
